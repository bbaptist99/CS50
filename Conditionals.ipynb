{
 "cells": [
  {
   "cell_type": "code",
   "execution_count": 4,
   "metadata": {},
   "outputs": [
    {
     "name": "stdout",
     "output_type": "stream",
     "text": [
      "what is x? 5\n",
      "what is y? 6\n",
      "x is less than y\n"
     ]
    }
   ],
   "source": [
    "# If, elif, else statements\n",
    "\n",
    "x = int(input(\"what is x? \"))\n",
    "y = int(input(\"what is y? \"))\n",
    "\n",
    "if x < y:\n",
    "    print(\"x is less than y\")\n",
    "elif x > y:\n",
    "    print(\"x is greater than y\")\n",
    "elif x == y:\n",
    "    print(\"x is equal to y\")\n",
    "else:\n",
    "    print(\"invalid inputs\")\n",
    "    "
   ]
  },
  {
   "cell_type": "code",
   "execution_count": 7,
   "metadata": {},
   "outputs": [
    {
     "name": "stdout",
     "output_type": "stream",
     "text": [
      "what is x? 3\n",
      "what is y? 4\n",
      "x is not equal to y\n"
     ]
    }
   ],
   "source": [
    "# If statements using OR\n",
    "\n",
    "x = int(input(\"what is x? \"))\n",
    "y = int(input(\"what is y? \"))\n",
    "\n",
    "if x < y or x > y:\n",
    "    print(\"x is not equal to y\")\n",
    "else:\n",
    "    print(\"x is equal to y\")"
   ]
  },
  {
   "cell_type": "code",
   "execution_count": 11,
   "metadata": {},
   "outputs": [
    {
     "name": "stdout",
     "output_type": "stream",
     "text": [
      "Score: 88\n",
      "Grade B\n"
     ]
    }
   ],
   "source": [
    "# Code grade tool with Elif\n",
    "\n",
    "score = int(input(\"Score: \"))\n",
    "\n",
    "if score >= 90 and score <= 100:\n",
    "    print(\"Grade A\")\n",
    "elif score >= 80 and score < 90:\n",
    "    print(\"Grade B\")\n",
    "elif score >= 70 and score < 80:\n",
    "    print(\"Grade C\")\n",
    "elif score >= 60 and score < 70:\n",
    "    print(\"Grade D\")\n",
    "else:\n",
    "    print(\"Grade F\")"
   ]
  },
  {
   "cell_type": "code",
   "execution_count": null,
   "metadata": {},
   "outputs": [],
   "source": []
  }
 ],
 "metadata": {
  "kernelspec": {
   "display_name": "Python 3",
   "language": "python",
   "name": "python3"
  },
  "language_info": {
   "codemirror_mode": {
    "name": "ipython",
    "version": 3
   },
   "file_extension": ".py",
   "mimetype": "text/x-python",
   "name": "python",
   "nbconvert_exporter": "python",
   "pygments_lexer": "ipython3",
   "version": "3.7.4"
  }
 },
 "nbformat": 4,
 "nbformat_minor": 2
}
