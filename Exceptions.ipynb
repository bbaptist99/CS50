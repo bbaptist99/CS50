{
 "cells": [
  {
   "cell_type": "code",
   "execution_count": 4,
   "id": "4408fa2b-f504-4a57-881a-b7e8ec8955df",
   "metadata": {},
   "outputs": [
    {
     "name": "stdin",
     "output_type": "stream",
     "text": [
      "What's x? cat\n"
     ]
    },
    {
     "name": "stdout",
     "output_type": "stream",
     "text": [
      "X is not an integer\n"
     ]
    }
   ],
   "source": [
    "# Exceptions are things that go wrong in coding\n",
    "# Runtime errors - unexpected error in your code\n",
    "# try and except\n",
    "\n",
    "try:\n",
    "    x = int(input(\"What's x?\" ))\n",
    "    print(f\"x is {x}\")\n",
    "except ValueError:\n",
    "    print(\"X is not an integer\")\n"
   ]
  },
  {
   "cell_type": "code",
   "execution_count": 10,
   "id": "208db7b7-c95a-4986-955b-a9df1fe7a7df",
   "metadata": {},
   "outputs": [
    {
     "name": "stdin",
     "output_type": "stream",
     "text": [
      "What's x? ten\n"
     ]
    },
    {
     "name": "stdout",
     "output_type": "stream",
     "text": [
      "x is not an integer\n"
     ]
    }
   ],
   "source": [
    "# Try, except, else\n",
    "\n",
    "try:\n",
    "    x = int(input(\"What's x?\" ))\n",
    "except ValueError:\n",
    "    print(\"x is not an integer\")\n",
    "else:\n",
    "    print(f\"x is {x}\")"
   ]
  },
  {
   "cell_type": "code",
   "execution_count": 14,
   "id": "bceda8d3-b034-495b-a435-524bce6aba90",
   "metadata": {},
   "outputs": [
    {
     "name": "stdin",
     "output_type": "stream",
     "text": [
      "What's x? cat\n"
     ]
    },
    {
     "name": "stdout",
     "output_type": "stream",
     "text": [
      "x is not an integer\n"
     ]
    },
    {
     "name": "stdin",
     "output_type": "stream",
     "text": [
      "What's x? 5\n"
     ]
    },
    {
     "name": "stdout",
     "output_type": "stream",
     "text": [
      "x is 5\n"
     ]
    }
   ],
   "source": [
    "# Create a loop on the above program to avoid ending if the value is wrong\n",
    "# if the value is an integer, break from the loop and print\n",
    "\n",
    "while True:\n",
    "    try:\n",
    "        x = int(input(\"What's x?\"))\n",
    "    except ValueError:\n",
    "        print(\"x is not an integer\")\n",
    "    else:\n",
    "        break\n",
    "\n",
    "print(f\"x is {x}\")"
   ]
  },
  {
   "cell_type": "code",
   "execution_count": null,
   "id": "04c4fb75-9e24-4075-b8f9-14443f1fb0e2",
   "metadata": {},
   "outputs": [],
   "source": []
  }
 ],
 "metadata": {
  "kernelspec": {
   "display_name": "Python 3 (ipykernel)",
   "language": "python",
   "name": "python3"
  },
  "language_info": {
   "codemirror_mode": {
    "name": "ipython",
    "version": 3
   },
   "file_extension": ".py",
   "mimetype": "text/x-python",
   "name": "python",
   "nbconvert_exporter": "python",
   "pygments_lexer": "ipython3",
   "version": "3.12.7"
  }
 },
 "nbformat": 4,
 "nbformat_minor": 5
}
