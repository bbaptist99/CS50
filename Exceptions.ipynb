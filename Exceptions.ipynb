{
 "cells": [
  {
   "cell_type": "code",
   "execution_count": 2,
   "metadata": {},
   "outputs": [
    {
     "name": "stdout",
     "output_type": "stream",
     "text": [
      "What's x?5\n",
      "x is 5\n"
     ]
    }
   ],
   "source": [
    "# Exceptions are things that go wrong in coding\n",
    "# Runtime errors - unexpected error in your code\n",
    "# try and except\n",
    "\n",
    "try:\n",
    "    x = int(input(\"What's x?\" ))\n",
    "    print(f\"x is {x}\")\n",
    "except ValueError:\n",
    "    print(\"X is not an integer\")\n"
   ]
  },
  {
   "cell_type": "code",
   "execution_count": 3,
   "metadata": {},
   "outputs": [
    {
     "name": "stdout",
     "output_type": "stream",
     "text": [
      "What's x?5\n",
      "x is 5\n"
     ]
    }
   ],
   "source": [
    "# Try, except, else\n",
    "\n",
    "try:\n",
    "    x = int(input(\"What's x?\" ))\n",
    "except ValueError:\n",
    "    print(\"x is not an integer\")\n",
    "else:\n",
    "    print(f\"x is {x}\")"
   ]
  },
  {
   "cell_type": "code",
   "execution_count": 4,
   "metadata": {},
   "outputs": [
    {
     "name": "stdout",
     "output_type": "stream",
     "text": [
      "What's x?ten\n",
      "x is not an integer\n",
      "What's x?5\n",
      "x is 5\n"
     ]
    }
   ],
   "source": [
    "# Create a loop on the above program to avoid ending if the value is wrong\n",
    "# if the value is an integer, break from the loop and print\n",
    "\n",
    "while True:\n",
    "    try:\n",
    "        x = int(input(\"What's x?\"))\n",
    "    except ValueError:\n",
    "        print(\"x is not an integer\")\n",
    "    else:\n",
    "        break\n",
    "\n",
    "print(f\"x is {x}\")"
   ]
  },
  {
   "cell_type": "code",
   "execution_count": 12,
   "metadata": {},
   "outputs": [
    {
     "name": "stdout",
     "output_type": "stream",
     "text": [
      "What's X? ten\n",
      "x is not an integer\n",
      "What's X? 10\n",
      " x is 10\n"
     ]
    }
   ],
   "source": [
    "# Create a function to get an integer\n",
    "\n",
    "\n",
    "def main():\n",
    "    x  = get_int()\n",
    "    print(f\" x is {x}\")\n",
    "\n",
    "def get_int():\n",
    "    while True:\n",
    "        try:\n",
    "            x = int(input(\"What's X? \"))\n",
    "        except ValueError:\n",
    "            print(\"x is not an integer\")\n",
    "        else:\n",
    "            return x\n",
    "\n",
    "main()"
   ]
  },
  {
   "cell_type": "code",
   "execution_count": null,
   "metadata": {},
   "outputs": [],
   "source": []
  }
 ],
 "metadata": {
  "kernelspec": {
   "display_name": "Python 3",
   "language": "python",
   "name": "python3"
  },
  "language_info": {
   "codemirror_mode": {
    "name": "ipython",
    "version": 3
   },
   "file_extension": ".py",
   "mimetype": "text/x-python",
   "name": "python",
   "nbconvert_exporter": "python",
   "pygments_lexer": "ipython3",
   "version": "3.7.4"
  }
 },
 "nbformat": 4,
 "nbformat_minor": 5
}
