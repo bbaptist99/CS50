{
 "cells": [
  {
   "cell_type": "code",
   "execution_count": 21,
   "id": "0b4cf203-8d23-48c8-bc3e-a08d154f66c8",
   "metadata": {},
   "outputs": [
    {
     "name": "stdin",
     "output_type": "stream",
     "text": [
      "what is your name? Brian\n"
     ]
    },
    {
     "name": "stdout",
     "output_type": "stream",
     "text": [
      "Hello, Brian\n"
     ]
    }
   ],
   "source": [
    "# Ask the user for their name\n",
    "name = input(\"what is your name?\")\n",
    "\n",
    "#print hello and the inputted name\n",
    "print(\"Hello,\", name)\n",
    "\n",
    "\n"
   ]
  },
  {
   "cell_type": "code",
   "execution_count": 23,
   "id": "80c5ba6a-99c4-4539-9b99-25c0b504d2a9",
   "metadata": {},
   "outputs": [
    {
     "name": "stdin",
     "output_type": "stream",
     "text": [
      "what's your name? Brian\n"
     ]
    },
    {
     "name": "stdout",
     "output_type": "stream",
     "text": [
      "hello,Brian\n"
     ]
    }
   ],
   "source": [
    "# Strings , str is a sequence of text\n",
    "# end='\\n' indicates the pring function will automatically create a line of code break\n",
    "\n",
    "name = input(\"what's your name?\")\n",
    "print(\"hello,\", end=\"\")\n",
    "print(name)"
   ]
  },
  {
   "cell_type": "code",
   "execution_count": 19,
   "id": "c0b246cd-6448-4db8-9cf7-27648776b693",
   "metadata": {},
   "outputs": [
    {
     "name": "stdin",
     "output_type": "stream",
     "text": [
      "What's your name?  Brian\n"
     ]
    },
    {
     "name": "stdout",
     "output_type": "stream",
     "text": [
      "hello, Brian\n"
     ]
    }
   ],
   "source": [
    "# Formatting Strings - f is a special indicator for Python to treat this string a special way\n",
    "\n",
    "name = input(\"What's your name? \")\n",
    "print(f\"hello, {name}\")"
   ]
  },
  {
   "cell_type": "code",
   "execution_count": 35,
   "id": "49625d79-2e1e-49e9-872e-f1da73837040",
   "metadata": {},
   "outputs": [
    {
     "name": "stdin",
     "output_type": "stream",
     "text": [
      "What's your name?     brian\n"
     ]
    },
    {
     "name": "stdout",
     "output_type": "stream",
     "text": [
      "Hello, Brian\n"
     ]
    }
   ],
   "source": [
    "# You can use strip to remove whitespace from a string, title to capitalize the first letter\n",
    "name = input(\"What's your name? \")\n",
    "name = name.strip()\n",
    "name = name.title()\n",
    "print(f\"Hello, {name}\")"
   ]
  },
  {
   "cell_type": "code",
   "execution_count": 47,
   "id": "2a19fbdc-193b-47ef-ac2c-affa1af87e96",
   "metadata": {},
   "outputs": [
    {
     "name": "stdin",
     "output_type": "stream",
     "text": [
      "what's x?  5\n",
      "what's y?  4\n"
     ]
    },
    {
     "name": "stdout",
     "output_type": "stream",
     "text": [
      "9\n"
     ]
    }
   ],
   "source": [
    "# Intergers = int\n",
    "x = int(input(\"what's x? \"))\n",
    "y = int(input(\"what's y? \"))\n",
    "\n",
    "print(x + y)"
   ]
  },
  {
   "cell_type": "code",
   "execution_count": 57,
   "id": "2aa9f6dd-0209-4aa6-af3f-8ab6d2d88f16",
   "metadata": {},
   "outputs": [
    {
     "name": "stdin",
     "output_type": "stream",
     "text": [
      "What's x?  345.23\n",
      "What's y?  8743.56\n"
     ]
    },
    {
     "name": "stdout",
     "output_type": "stream",
     "text": [
      "9088.789999999999\n",
      "9089\n",
      "9,089\n"
     ]
    }
   ],
   "source": [
    "# Float basics - a float is a real number that has a decimal\n",
    "x = float(input(\"What's x? \"))\n",
    "y = float(input(\"What's y? \"))\n",
    "\n",
    "print(x +y)\n",
    "\n",
    "# create rounded result\n",
    "z = round(x + y)\n",
    "print(z)\n",
    "\n",
    "# print the formatted result\n",
    "print(f\"{z:,}\")"
   ]
  },
  {
   "cell_type": "code",
   "execution_count": 75,
   "id": "e4030de2-62e5-4bcc-aafd-1104323e4561",
   "metadata": {},
   "outputs": [
    {
     "name": "stdin",
     "output_type": "stream",
     "text": [
      "what's x? 2\n",
      "what's y? 3\n"
     ]
    },
    {
     "name": "stdout",
     "output_type": "stream",
     "text": [
      "0.67\n"
     ]
    }
   ],
   "source": [
    "# More on floats\n",
    "x = float(input(\"what's x?\" ))\n",
    "y = float(input(\"what's y?\" ))\n",
    "\n",
    "#Calc the result\n",
    "z = x / y\n",
    "\n",
    "#print the result - fstring rounded to 2 decimals\n",
    "print(f\"{z:.2f}\")"
   ]
  },
  {
   "cell_type": "code",
   "execution_count": 83,
   "id": "4ced50a8-e2d1-4746-b01a-f5010aab2fdd",
   "metadata": {},
   "outputs": [
    {
     "name": "stdin",
     "output_type": "stream",
     "text": [
      "What's your name?  Brian\n"
     ]
    },
    {
     "name": "stdout",
     "output_type": "stream",
     "text": [
      "hello, Brian\n",
      "hello, world\n"
     ]
    }
   ],
   "source": [
    "# Def - create your own functions\n",
    "def hello(to=\"world\"):\n",
    "    print(\"hello,\", to)\n",
    "\n",
    "# Output using your own function\n",
    "name = input(\"What's your name? \")\n",
    "hello(name)\n",
    "\n",
    "# Output without passing the expected arguments\n",
    "hello()"
   ]
  },
  {
   "cell_type": "code",
   "execution_count": 99,
   "id": "6615b29a-df8f-44c4-81e9-ebf20eb6e2ab",
   "metadata": {},
   "outputs": [
    {
     "name": "stdin",
     "output_type": "stream",
     "text": [
      "what's your name?         brian\n"
     ]
    },
    {
     "name": "stdout",
     "output_type": "stream",
     "text": [
      "hello, Brian\n",
      "hello, world\n"
     ]
    }
   ],
   "source": [
    "# You can define the function at the end of the code\n",
    "\n",
    "def main():\n",
    "\n",
    "    # Output using your own function\n",
    "    name = input(\"what's your name? \").strip().title()\n",
    "    hello(name)\n",
    "\n",
    "    # Output without passing expected arguments\n",
    "    hello()\n",
    "\n",
    "def hello (to=\"world\"):\n",
    "    print(\"hello,\", to)\n",
    "\n",
    "main()"
   ]
  },
  {
   "cell_type": "code",
   "execution_count": 101,
   "id": "4c835aa1-d465-4f3d-8cd3-425f5b27f736",
   "metadata": {},
   "outputs": [
    {
     "name": "stdin",
     "output_type": "stream",
     "text": [
      "what's x?  4\n"
     ]
    },
    {
     "name": "stdout",
     "output_type": "stream",
     "text": [
      "x squared is 16\n"
     ]
    }
   ],
   "source": [
    "# Returning values\n",
    "\n",
    "def main():\n",
    "    x=int(input(\"what's x? \"))\n",
    "    print(\"x squared is\", square(x))\n",
    "\n",
    "def square(n):\n",
    "    return n * n\n",
    "\n",
    "main()"
   ]
  },
  {
   "cell_type": "code",
   "execution_count": null,
   "id": "d7344fe2-7162-4869-aa76-c925d6f9f029",
   "metadata": {},
   "outputs": [],
   "source": []
  }
 ],
 "metadata": {
  "kernelspec": {
   "display_name": "Python 3 (ipykernel)",
   "language": "python",
   "name": "python3"
  },
  "language_info": {
   "codemirror_mode": {
    "name": "ipython",
    "version": 3
   },
   "file_extension": ".py",
   "mimetype": "text/x-python",
   "name": "python",
   "nbconvert_exporter": "python",
   "pygments_lexer": "ipython3",
   "version": "3.12.7"
  }
 },
 "nbformat": 4,
 "nbformat_minor": 5
}
